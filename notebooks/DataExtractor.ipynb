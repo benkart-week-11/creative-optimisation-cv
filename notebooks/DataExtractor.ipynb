{
 "cells": [
  {
   "cell_type": "code",
   "execution_count": null,
   "metadata": {},
   "outputs": [],
   "source": [
    "import boto3  \n",
    "import pandas as pd\n",
    "s3 = boto3.resource(\"s3\")\n",
    "\n",
    "# s3.meta.client.download_file(Bucket=\"10ac-batch-6\", Key=\"data/w11/Challenge_Data.zip\", Filename=\"./Challenge_Data.zip\")"
   ]
  },
  {
   "cell_type": "code",
   "execution_count": null,
   "metadata": {},
   "outputs": [],
   "source": [
    "# import zipfile\n",
    "# with zipfile.ZipFile(\"../data/Challenge_Data.zip\",\"r\") as zip_ref:\n",
    "#     zip_ref.extractall(\"../data\")"
   ]
  },
  {
   "cell_type": "code",
   "execution_count": null,
   "metadata": {},
   "outputs": [],
   "source": [
    "def generat_dmnt():\n",
    "    pass"
   ]
  },
  {
   "cell_type": "code",
   "execution_count": 1,
   "metadata": {},
   "outputs": [],
   "source": [
    "import glob,ossaudiodev\n",
    "list_assets = glob.glob('../data/Challenge_Data/Assets/*')"
   ]
  },
  {
   "cell_type": "code",
   "execution_count": 2,
   "metadata": {},
   "outputs": [],
   "source": [
    "df = pd.read_csv('../data/Challenge_Data/performance_data.csv')\n",
    "df.head()"
   ]
  },
  {
   "cell_type": "code",
   "execution_count": 1,
   "metadata": {},
   "outputs": [],
   "source": [
    "import glob\n",
    "import os\n",
    "list_assets = glob.glob('../data/Challenge_Data/Assets/*')\n",
    "\n",
    "selected_list=[]\n",
    "for file in list_assets:\n",
    "    if  os.path.exists(os.path.join(file,'logo.png')): #and  os.path.exists(os.path.join(file,'*{engagement}*.png')) and  os.path.exists(os.path.join(file,'*{cta}*.png')):\n",
    "       selected_list.append(file) "
   ]
  },
  {
   "cell_type": "code",
   "execution_count": 2,
   "metadata": {},
   "outputs": [
    {
     "name": "stdout",
     "output_type": "stream",
     "text": [
      "../data/Challenge_Data/Assets/bf1f7af46eec0e92939a8b3ba51cbacd\n"
     ]
    }
   ],
   "source": [
    "print(selected_list[0])"
   ]
  }
 ],
 "metadata": {
  "kernelspec": {
   "display_name": "Python 3.9.7 ('base')",
   "language": "python",
   "name": "python3"
  },
  "language_info": {
   "codemirror_mode": {
    "name": "ipython",
    "version": 3
   },
   "file_extension": ".py",
   "mimetype": "text/x-python",
   "name": "python",
   "nbconvert_exporter": "python",
   "pygments_lexer": "ipython3",
   "version": "3.9.7"
  },
  "orig_nbformat": 4,
  "vscode": {
   "interpreter": {
    "hash": "f7120104f38616a8db967603f05c34ca101da9b45f150da360878878ee2b673f"
   }
  }
 },
 "nbformat": 4,
 "nbformat_minor": 2
}
