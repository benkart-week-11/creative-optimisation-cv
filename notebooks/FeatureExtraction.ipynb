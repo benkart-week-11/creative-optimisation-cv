{
 "cells": [
  {
   "cell_type": "code",
   "execution_count": 1,
   "metadata": {},
   "outputs": [],
   "source": [
    "import cv2 \n",
    "import numpy as np\n",
    "import matplotlib.pyplot as plt"
   ]
  },
  {
   "cell_type": "code",
   "execution_count": 2,
   "metadata": {},
   "outputs": [],
   "source": [
    "import sys\n",
    "sys.path.append('../scripts')\n",
    "from feature_extractor import FeatureDetector\n",
    "\n",
    "f_detector = FeatureDetector()\n"
   ]
  },
  {
   "cell_type": "markdown",
   "metadata": {},
   "source": [
    "## Feature extraction with OBR"
   ]
  },
  {
   "cell_type": "code",
   "execution_count": 2,
   "metadata": {},
   "outputs": [],
   "source": [
    "query_img = cv2.imread('../data/Challenge_Data/Assets/bf1f7af46eec0e92939a8b3ba51cbacd/_preview.png')\n",
    "train_img = cv2.imread('../data/Challenge_Data/Assets/bf1f7af46eec0e92939a8b3ba51cbacd/logo.png')\n",
    "train_img = cv2.resize(train_img,(128,128))\n",
    "        \n",
    "# detect features on test image\n",
    "queryKeypoints, trainKeypoints, matches =  f_detector.detectFeatures(query_img, train_img,0.70)\n",
    "f_detector.plot_matching(matches,query_img,train_img,queryKeypoints,trainKeypoints)\n"
   ]
  },
  {
   "cell_type": "code",
   "execution_count": null,
   "metadata": {},
   "outputs": [],
   "source": []
  }
 ],
 "metadata": {
  "kernelspec": {
   "display_name": "Python 3.9.7 ('base')",
   "language": "python",
   "name": "python3"
  },
  "language_info": {
   "codemirror_mode": {
    "name": "ipython",
    "version": 3
   },
   "file_extension": ".py",
   "mimetype": "text/x-python",
   "name": "python",
   "nbconvert_exporter": "python",
   "pygments_lexer": "ipython3",
   "version": "3.9.7"
  },
  "orig_nbformat": 4,
  "vscode": {
   "interpreter": {
    "hash": "f7120104f38616a8db967603f05c34ca101da9b45f150da360878878ee2b673f"
   }
  }
 },
 "nbformat": 4,
 "nbformat_minor": 2
}
