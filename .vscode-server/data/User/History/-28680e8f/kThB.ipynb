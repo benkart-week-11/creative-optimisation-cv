{
 "cells": [
  {
   "cell_type": "code",
   "execution_count": 2,
   "metadata": {},
   "outputs": [],
   "source": [
    "import boto3  \n",
    "import pandas as pd\n",
    "s3 = boto3.resource(\"s3\")\n",
    "\n",
    "# s3.meta.client.download_file(Bucket=\"10ac-batch-6\", Key=\"data/w11/Challenge_Data.zip\", Filename=\"./Challenge_Data.zip\")"
   ]
  },
  {
   "cell_type": "code",
   "execution_count": 1,
   "metadata": {},
   "outputs": [],
   "source": [
    "import zipfile\n",
    "with zipfile.ZipFile(\"../data/Challenge_Data.zip\",\"r\") as zip_ref:\n",
    "    zip_ref.extractall(\"../data\")"
   ]
  },
  {
   "cell_type": "code",
   "execution_count": 3,
   "metadata": {},
   "outputs": [
    {
     "data": {
      "text/plain": [
       "['../data/Challenge_Data/Assets/002dbbd85ef3fe6a2e7d0754fb9f9a1a/CV.jpg',\n",
       " '../data/Challenge_Data/Assets/002dbbd85ef3fe6a2e7d0754fb9f9a1a/engagement_instruction_2.png',\n",
       " '../data/Challenge_Data/Assets/002dbbd85ef3fe6a2e7d0754fb9f9a1a/game_2.png',\n",
       " '../data/Challenge_Data/Assets/002dbbd85ef3fe6a2e7d0754fb9f9a1a/4bg.png',\n",
       " '../data/Challenge_Data/Assets/002dbbd85ef3fe6a2e7d0754fb9f9a1a/click.png',\n",
       " '../data/Challenge_Data/Assets/002dbbd85ef3fe6a2e7d0754fb9f9a1a/5bg.png',\n",
       " '../data/Challenge_Data/Assets/002dbbd85ef3fe6a2e7d0754fb9f9a1a/cta.png',\n",
       " '../data/Challenge_Data/Assets/002dbbd85ef3fe6a2e7d0754fb9f9a1a/engagement_instruction_1.png',\n",
       " '../data/Challenge_Data/Assets/002dbbd85ef3fe6a2e7d0754fb9f9a1a/logo_2.png',\n",
       " '../data/Challenge_Data/Assets/002dbbd85ef3fe6a2e7d0754fb9f9a1a/5bg1.png',\n",
       " '../data/Challenge_Data/Assets/002dbbd85ef3fe6a2e7d0754fb9f9a1a/0bg.png',\n",
       " '../data/Challenge_Data/Assets/002dbbd85ef3fe6a2e7d0754fb9f9a1a/_preview.png',\n",
       " '../data/Challenge_Data/Assets/002dbbd85ef3fe6a2e7d0754fb9f9a1a/swipe.png',\n",
       " '../data/Challenge_Data/Assets/002dbbd85ef3fe6a2e7d0754fb9f9a1a/game_1.png',\n",
       " '../data/Challenge_Data/Assets/002dbbd85ef3fe6a2e7d0754fb9f9a1a/logo_1.png',\n",
       " '../data/Challenge_Data/Assets/002dbbd85ef3fe6a2e7d0754fb9f9a1a/4bg1.png',\n",
       " '../data/Challenge_Data/Assets/002dbbd85ef3fe6a2e7d0754fb9f9a1a/3spraylogo.png',\n",
       " '../data/Challenge_Data/Assets/002dbbd85ef3fe6a2e7d0754fb9f9a1a/layer.png',\n",
       " '../data/Challenge_Data/Assets/002dbbd85ef3fe6a2e7d0754fb9f9a1a/endframe_1.png',\n",
       " '../data/Challenge_Data/Assets/002dbbd85ef3fe6a2e7d0754fb9f9a1a/court.png']"
      ]
     },
     "execution_count": 3,
     "metadata": {},
     "output_type": "execute_result"
    }
   ],
   "source": [
    "import glob\n",
    "list_assets = glob.glob('../data/Challenge_Data/Assets/002dbbd85ef3fe6a2e7d0754fb9f9a1a/*')\n",
    "list_assets"
   ]
  },
  {
   "cell_type": "code",
   "execution_count": 3,
   "metadata": {},
   "outputs": [
    {
     "data": {
      "text/html": [
       "<div>\n",
       "<style scoped>\n",
       "    .dataframe tbody tr th:only-of-type {\n",
       "        vertical-align: middle;\n",
       "    }\n",
       "\n",
       "    .dataframe tbody tr th {\n",
       "        vertical-align: top;\n",
       "    }\n",
       "\n",
       "    .dataframe thead th {\n",
       "        text-align: right;\n",
       "    }\n",
       "</style>\n",
       "<table border=\"1\" class=\"dataframe\">\n",
       "  <thead>\n",
       "    <tr style=\"text-align: right;\">\n",
       "      <th></th>\n",
       "      <th>game_id</th>\n",
       "      <th>preview_link</th>\n",
       "      <th>ER</th>\n",
       "      <th>CTR</th>\n",
       "    </tr>\n",
       "  </thead>\n",
       "  <tbody>\n",
       "    <tr>\n",
       "      <th>0</th>\n",
       "      <td>bfbf7a2b7ac635e67877b1ab87fd6629</td>\n",
       "      <td>https://s3.us-east-1.amazonaws.com/a.futureadl...</td>\n",
       "      <td>0.209269</td>\n",
       "      <td>0.058438</td>\n",
       "    </tr>\n",
       "    <tr>\n",
       "      <th>1</th>\n",
       "      <td>945010afbf9a55bbdffcb0895f946155</td>\n",
       "      <td>https://s3.us-east-1.amazonaws.com/a.futureadl...</td>\n",
       "      <td>0.274552</td>\n",
       "      <td>0.074731</td>\n",
       "    </tr>\n",
       "    <tr>\n",
       "      <th>2</th>\n",
       "      <td>e68e20f592457b875ce29757ab855dfe</td>\n",
       "      <td>https://s3.us-east-1.amazonaws.com/a.futureadl...</td>\n",
       "      <td>0.103688</td>\n",
       "      <td>0.042228</td>\n",
       "    </tr>\n",
       "    <tr>\n",
       "      <th>3</th>\n",
       "      <td>adunit-nestle-purina-friskies-mob</td>\n",
       "      <td>https://s3.ap-southeast-1.amazonaws.com/a.futu...</td>\n",
       "      <td>0.136963</td>\n",
       "      <td>0.005393</td>\n",
       "    </tr>\n",
       "    <tr>\n",
       "      <th>4</th>\n",
       "      <td>adunit-lionsgate-uwomt-user-slider-sensory-vid...</td>\n",
       "      <td>https://s3.us-west-1.amazonaws.com/a.futureadl...</td>\n",
       "      <td>0.114208</td>\n",
       "      <td>0.016443</td>\n",
       "    </tr>\n",
       "  </tbody>\n",
       "</table>\n",
       "</div>"
      ],
      "text/plain": [
       "                                             game_id  \\\n",
       "0                   bfbf7a2b7ac635e67877b1ab87fd6629   \n",
       "1                   945010afbf9a55bbdffcb0895f946155   \n",
       "2                   e68e20f592457b875ce29757ab855dfe   \n",
       "3                  adunit-nestle-purina-friskies-mob   \n",
       "4  adunit-lionsgate-uwomt-user-slider-sensory-vid...   \n",
       "\n",
       "                                        preview_link        ER       CTR  \n",
       "0  https://s3.us-east-1.amazonaws.com/a.futureadl...  0.209269  0.058438  \n",
       "1  https://s3.us-east-1.amazonaws.com/a.futureadl...  0.274552  0.074731  \n",
       "2  https://s3.us-east-1.amazonaws.com/a.futureadl...  0.103688  0.042228  \n",
       "3  https://s3.ap-southeast-1.amazonaws.com/a.futu...  0.136963  0.005393  \n",
       "4  https://s3.us-west-1.amazonaws.com/a.futureadl...  0.114208  0.016443  "
      ]
     },
     "execution_count": 3,
     "metadata": {},
     "output_type": "execute_result"
    }
   ],
   "source": [
    "df = pd.read_csv('../data/Challenge_Data/performance_data.csv')\n",
    "df.head()"
   ]
  }
 ],
 "metadata": {
  "kernelspec": {
   "display_name": "Python 3.8.10 64-bit",
   "language": "python",
   "name": "python3"
  },
  "language_info": {
   "codemirror_mode": {
    "name": "ipython",
    "version": 3
   },
   "file_extension": ".py",
   "mimetype": "text/x-python",
   "name": "python",
   "nbconvert_exporter": "python",
   "pygments_lexer": "ipython3",
   "version": "3.8.10"
  },
  "orig_nbformat": 4,
  "vscode": {
   "interpreter": {
    "hash": "916dbcbb3f70747c44a77c7bcd40155683ae19c65e1c03b4aa3499c5328201f1"
   }
  }
 },
 "nbformat": 4,
 "nbformat_minor": 2
}
