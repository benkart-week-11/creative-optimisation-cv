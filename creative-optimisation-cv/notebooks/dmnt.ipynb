{
 "cells": [
  {
   "cell_type": "code",
   "execution_count": 6,
   "metadata": {},
   "outputs": [],
   "source": [
    "import extcolors\n",
    "import pandas as pd\n",
    "from colormap import rgb2hex\n",
    "from matplotlib import pyplot as plt\n",
    "from PIL import Image\n"
   ]
  },
  {
   "cell_type": "code",
   "execution_count": 11,
   "metadata": {},
   "outputs": [
    {
     "name": "stdout",
     "output_type": "stream",
     "text": [
      "    c_code              rgb occurrence\n",
      "0  #FFFFFF  (255, 255, 255)     108314\n",
      "1  #64523E    (100, 82, 62)      71686\n"
     ]
    },
    {
     "data": {
      "text/html": [
       "<div>\n",
       "<style scoped>\n",
       "    .dataframe tbody tr th:only-of-type {\n",
       "        vertical-align: middle;\n",
       "    }\n",
       "\n",
       "    .dataframe tbody tr th {\n",
       "        vertical-align: top;\n",
       "    }\n",
       "\n",
       "    .dataframe thead th {\n",
       "        text-align: right;\n",
       "    }\n",
       "</style>\n",
       "<table border=\"1\" class=\"dataframe\">\n",
       "  <thead>\n",
       "    <tr style=\"text-align: right;\">\n",
       "      <th></th>\n",
       "      <th>c_code</th>\n",
       "      <th>rgb</th>\n",
       "      <th>occurrence</th>\n",
       "    </tr>\n",
       "  </thead>\n",
       "  <tbody>\n",
       "    <tr>\n",
       "      <th>0</th>\n",
       "      <td>#FFFFFF</td>\n",
       "      <td>(255, 255, 255)</td>\n",
       "      <td>108314</td>\n",
       "    </tr>\n",
       "    <tr>\n",
       "      <th>1</th>\n",
       "      <td>#64523E</td>\n",
       "      <td>(100, 82, 62)</td>\n",
       "      <td>71686</td>\n",
       "    </tr>\n",
       "  </tbody>\n",
       "</table>\n",
       "</div>"
      ],
      "text/plain": [
       "    c_code              rgb occurrence\n",
       "0  #FFFFFF  (255, 255, 255)     108314\n",
       "1  #64523E    (100, 82, 62)      71686"
      ]
     },
     "execution_count": 11,
     "metadata": {},
     "output_type": "execute_result"
    }
   ],
   "source": [
    "def identify_color_composition(image,\n",
    "                               tolerance: int = 12,\n",
    "                               limit: int = 1,\n",
    "                               visualize: bool = False) -> None:\n",
    "    \"\"\"Function that identifies the color composition of a\n",
    "    given image path.\"\"\"\n",
    "\n",
    "    extracted_colors = extcolors.extract_from_path(\n",
    "        image, tolerance=tolerance, limit=limit)\n",
    "\n",
    "    identified_colors = color_to_df(extracted_colors)\n",
    "\n",
    "    if not visualize:\n",
    "        return identified_colors\n",
    "\n",
    "    list_color = list(identified_colors['c_code'])\n",
    "    list_percent = [int(i) for i in list(identified_colors['occurrence'])]\n",
    "\n",
    "    text_c = [c + ' ' + str(round(p*100/sum(list_percent), 1)) + '%' for c, p in zip(list_color,\n",
    "                                                                                     list_percent)]\n",
    "    fig, ax = plt.subplots(nrows=1, ncols=2, figsize=(100, 100), dpi=10)\n",
    "    wedges, _ = ax[0].pie(list_percent,\n",
    "                          labels=text_c,\n",
    "                          labeldistance=1.05,\n",
    "                          colors=list_color,\n",
    "                          textprops={'fontsize': 60, 'color': 'black'}\n",
    "                          )\n",
    "\n",
    "    plt.setp(wedges, width=0.3)\n",
    "\n",
    "    # create space in the center\n",
    "    plt.setp(wedges, width=0.36)\n",
    "\n",
    "    ax[0].set_aspect(\"equal\")\n",
    "    fig.set_facecolor('grey')\n",
    "\n",
    "    ax[1].imshow(Image.open(image))\n",
    "\n",
    "    plt.show()\n",
    "\n",
    "    return identified_colors\n",
    "\n",
    "\n",
    "\n",
    "def color_to_df(extracted_colors: tuple):\n",
    "    \"\"\"Converts RGB Color values from extcolors output to HEX Values.\"\"\"\n",
    "\n",
    "    colors_pre_list = str(extracted_colors).replace(\n",
    "        '([(', '').replace(')],', '), (').split(', (')[0:-1]\n",
    "    df_rgb = [i.split('), ')[0] + ')' for i in colors_pre_list]\n",
    "    df_percent = [i.split('), ')[1].replace(')', '')\n",
    "                  for i in colors_pre_list]\n",
    "\n",
    "    # convert RGB to HEX code\n",
    "    df_rgb_values = [(int(i.split(\", \")[0].replace(\"(\", \"\")),\n",
    "                      int(i.split(\", \")[1]),\n",
    "                      int(i.split(\", \")[2].replace(\")\", \"\"))) for i in df_rgb]\n",
    "\n",
    "    df_color_up = [rgb2hex(int(i.split(\", \")[0].replace(\"(\", \"\")),\n",
    "                           int(i.split(\", \")[1]),\n",
    "                           int(i.split(\", \")[2].replace(\")\", \"\"))) for i in df_rgb]\n",
    "\n",
    "    colors_df = pd.DataFrame(zip(df_color_up, df_rgb_values, df_percent),\n",
    "                             columns=['c_code', 'rgb', 'occurrence'])\n",
    "\n",
    "    print(colors_df)\n",
    "    return colors_df\n",
    "    \n",
    "\n",
    "identify_color_composition('../data/Challenge_Data/Assets/5a48ffcbf611f167ecbb884e807f31f6/landing_2.jpg',tolerance=50,limit=10, visualize=False)"
   ]
  }
 ],
 "metadata": {
  "kernelspec": {
   "display_name": "Python 3.10.6 64-bit",
   "language": "python",
   "name": "python3"
  },
  "language_info": {
   "codemirror_mode": {
    "name": "ipython",
    "version": 3
   },
   "file_extension": ".py",
   "mimetype": "text/x-python",
   "name": "python",
   "nbconvert_exporter": "python",
   "pygments_lexer": "ipython3",
   "version": "3.8.10"
  },
  "orig_nbformat": 4,
  "vscode": {
   "interpreter": {
    "hash": "916dbcbb3f70747c44a77c7bcd40155683ae19c65e1c03b4aa3499c5328201f1"
   }
  }
 },
 "nbformat": 4,
 "nbformat_minor": 2
}
