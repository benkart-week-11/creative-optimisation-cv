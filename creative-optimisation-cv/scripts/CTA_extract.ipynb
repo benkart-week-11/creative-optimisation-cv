{
 "cells": [
  {
   "cell_type": "markdown",
   "id": "66837f35",
   "metadata": {},
   "source": [
    "### importing "
   ]
  },
  {
   "cell_type": "code",
   "execution_count": 1,
   "id": "9b885c48",
   "metadata": {},
   "outputs": [],
   "source": [
    "import cv2"
   ]
  },
  {
   "cell_type": "code",
   "execution_count": 6,
   "id": "5bea5857",
   "metadata": {},
   "outputs": [],
   "source": [
    "# reading image\n",
    "img = cv2.imread('assets/CTR.png', 1)\n",
    "# resize image\n",
    "img = cv2.resize(img, (0,0), fx=0.5, fy=0.5)\n",
    "# rotate\n",
    "#img = cv2.rotate(img, cv2.ROTATE_180)"
   ]
  },
  {
   "cell_type": "code",
   "execution_count": 7,
   "id": "ed76b0f8",
   "metadata": {},
   "outputs": [
    {
     "data": {
      "text/plain": [
       "True"
      ]
     },
     "execution_count": 7,
     "metadata": {},
     "output_type": "execute_result"
    }
   ],
   "source": [
    "# image write\n",
    "cv2.imwrite('new1_image.png', img)"
   ]
  },
  {
   "cell_type": "code",
   "execution_count": 8,
   "id": "51f1af6b",
   "metadata": {},
   "outputs": [],
   "source": [
    "cv2.imshow('Image show', img)\n",
    "cv2.waitKey(0)\n",
    "cv2.destroyAllWindows()"
   ]
  },
  {
   "cell_type": "code",
   "execution_count": 9,
   "id": "fbcf2663",
   "metadata": {},
   "outputs": [
    {
     "name": "stdout",
     "output_type": "stream",
     "text": [
      "(323, 680, 3)\n"
     ]
    }
   ],
   "source": [
    "# printing shape\n",
    "print(img.shape)"
   ]
  },
  {
   "cell_type": "code",
   "execution_count": 10,
   "id": "a75e8a65",
   "metadata": {},
   "outputs": [],
   "source": [
    "# opencv color, blue, green and red\n",
    "# printing the first row\n",
    "#print(img[0]) "
   ]
  },
  {
   "cell_type": "markdown",
   "id": "30cdf038",
   "metadata": {},
   "source": [
    "### Reading the text from the image using tessarat \n",
    "the following hsa to be installed \n",
    "- pip install pytesseract ()\n",
    "- pip install pillow (cts as image interprator)\n",
    "- pip install opencv-python (to recognise texts from media)"
   ]
  },
  {
   "cell_type": "code",
   "execution_count": null,
   "id": "2e36df83",
   "metadata": {},
   "outputs": [],
   "source": []
  },
  {
   "cell_type": "code",
   "execution_count": 11,
   "id": "610dbf2b",
   "metadata": {},
   "outputs": [],
   "source": [
    "from PIL import Image\n",
    "import pytesseract\n",
    "import cv2\n",
    "import numpy as np\n",
    "from pytesseract import Output\n",
    "import os"
   ]
  },
  {
   "cell_type": "code",
   "execution_count": 48,
   "id": "c085d4d2",
   "metadata": {},
   "outputs": [],
   "source": [
    "image = cv2.imread(\"assets/text_image.png\", 1) # making grayscale (cha)\n",
    "image = cv2.resize(image,(300,150))\n",
    "cv2.imshow('Image show', image)\n",
    "cv2.waitKey(0)\n",
    "cv2.destroyAllWindows()"
   ]
  },
  {
   "cell_type": "code",
   "execution_count": 47,
   "id": "55970abf",
   "metadata": {},
   "outputs": [
    {
     "data": {
      "text/plain": [
       "array([[245, 245, 245, ..., 245, 245, 245],\n",
       "       [245, 245, 245, ..., 245, 245, 245],\n",
       "       [245, 245, 245, ..., 245, 245, 245],\n",
       "       ...,\n",
       "       [245, 245, 245, ..., 245, 245, 245],\n",
       "       [245, 245, 245, ..., 245, 245, 245],\n",
       "       [245, 245, 245, ..., 245, 245, 245]], dtype=uint8)"
      ]
     },
     "execution_count": 47,
     "metadata": {},
     "output_type": "execute_result"
    }
   ],
   "source": [
    "#spliting \n",
    "cv2.split(image)[0]"
   ]
  },
  {
   "cell_type": "code",
   "execution_count": 49,
   "id": "37bbd587",
   "metadata": {},
   "outputs": [],
   "source": [
    "B,G,R = cv2.split(image)"
   ]
  },
  {
   "cell_type": "code",
   "execution_count": 52,
   "id": "4b2e47e5",
   "metadata": {},
   "outputs": [
    {
     "name": "stdout",
     "output_type": "stream",
     "text": [
      "(150, 300)\n",
      "(150, 300)\n",
      "(150, 300)\n"
     ]
    }
   ],
   "source": [
    "print(B.shape)\n",
    "print(G.shape)\n",
    "print(R.shape)"
   ]
  },
  {
   "cell_type": "code",
   "execution_count": 31,
   "id": "8791b15d",
   "metadata": {},
   "outputs": [
    {
     "name": "stdout",
     "output_type": "stream",
     "text": [
      "(150, 300)\n"
     ]
    }
   ],
   "source": [
    "print(image.shape)"
   ]
  },
  {
   "cell_type": "code",
   "execution_count": 41,
   "id": "51df9902",
   "metadata": {},
   "outputs": [],
   "source": [
    "(H,W) = image.shape[:2]"
   ]
  },
  {
   "cell_type": "code",
   "execution_count": 56,
   "id": "691dc965",
   "metadata": {},
   "outputs": [
    {
     "data": {
      "text/plain": [
       "150"
      ]
     },
     "execution_count": 56,
     "metadata": {},
     "output_type": "execute_result"
    }
   ],
   "source": [
    "H"
   ]
  },
  {
   "cell_type": "code",
   "execution_count": 66,
   "id": "11d83b2a",
   "metadata": {},
   "outputs": [
    {
     "ename": "TypeError",
     "evalue": "'int' object is not iterable",
     "output_type": "error",
     "traceback": [
      "\u001b[1;31m---------------------------------------------------------------------------\u001b[0m",
      "\u001b[1;31mTypeError\u001b[0m                                 Traceback (most recent call last)",
      "\u001b[1;32mc:\\Users\\Ekubazgi\\Documents\\week-11\\Image_processing.ipynb Cell 18\u001b[0m in \u001b[0;36m<cell line: 3>\u001b[1;34m()\u001b[0m\n\u001b[0;32m      <a href='vscode-notebook-cell:/c%3A/Users/Ekubazgi/Documents/week-11/Image_processing.ipynb#X26sZmlsZQ%3D%3D?line=0'>1</a>\u001b[0m \u001b[39m## condencing to dataframe\u001b[39;00m\n\u001b[0;32m      <a href='vscode-notebook-cell:/c%3A/Users/Ekubazgi/Documents/week-11/Image_processing.ipynb#X26sZmlsZQ%3D%3D?line=1'>2</a>\u001b[0m \u001b[39mimport\u001b[39;00m \u001b[39mpandas\u001b[39;00m \u001b[39mas\u001b[39;00m \u001b[39mpd\u001b[39;00m\n\u001b[1;32m----> <a href='vscode-notebook-cell:/c%3A/Users/Ekubazgi/Documents/week-11/Image_processing.ipynb#X26sZmlsZQ%3D%3D?line=2'>3</a>\u001b[0m cta_df \u001b[39m=\u001b[39mpd\u001b[39m.\u001b[39mDataFrame(\u001b[39mzip\u001b[39;49m(H,W), columns\u001b[39m=\u001b[39m[\u001b[39m'\u001b[39m\u001b[39mHeight\u001b[39m\u001b[39m'\u001b[39m,\u001b[39m'\u001b[39m\u001b[39mWeight\u001b[39m\u001b[39m'\u001b[39m])\n",
      "\u001b[1;31mTypeError\u001b[0m: 'int' object is not iterable"
     ]
    }
   ],
   "source": [
    "## condencing to dataframe\n",
    "import pandas as pd\n",
    "cta_df =pd.DataFrame(zip(H,W), columns=['Height','Weight'])"
   ]
  },
  {
   "cell_type": "code",
   "execution_count": null,
   "id": "924fe847",
   "metadata": {},
   "outputs": [],
   "source": []
  },
  {
   "cell_type": "code",
   "execution_count": 63,
   "id": "c5750bcf",
   "metadata": {},
   "outputs": [
    {
     "data": {
      "text/html": [
       "<div>\n",
       "<style scoped>\n",
       "    .dataframe tbody tr th:only-of-type {\n",
       "        vertical-align: middle;\n",
       "    }\n",
       "\n",
       "    .dataframe tbody tr th {\n",
       "        vertical-align: top;\n",
       "    }\n",
       "\n",
       "    .dataframe thead th {\n",
       "        text-align: right;\n",
       "    }\n",
       "</style>\n",
       "<table border=\"1\" class=\"dataframe\">\n",
       "  <thead>\n",
       "    <tr style=\"text-align: right;\">\n",
       "      <th></th>\n",
       "      <th>Height</th>\n",
       "      <th>Weight</th>\n",
       "    </tr>\n",
       "  </thead>\n",
       "  <tbody>\n",
       "  </tbody>\n",
       "</table>\n",
       "</div>"
      ],
      "text/plain": [
       "Empty DataFrame\n",
       "Columns: [Height, Weight]\n",
       "Index: []"
      ]
     },
     "execution_count": 63,
     "metadata": {},
     "output_type": "execute_result"
    }
   ],
   "source": [
    "cta_df.head()"
   ]
  },
  {
   "cell_type": "code",
   "execution_count": null,
   "id": "7b168817",
   "metadata": {},
   "outputs": [],
   "source": []
  },
  {
   "cell_type": "code",
   "execution_count": 22,
   "id": "2bbc5f0e",
   "metadata": {},
   "outputs": [],
   "source": [
    "def read_text():\n",
    "    #Specifies PATH of Tesseract\n",
    "    pytesseract.pytesseract.tesseract_cmd = r'C:/Program Files/Tesseract-OCR/tesseract.exe'\n",
    "\n",
    "# Simply extracting text from image\n",
    "    image = Image.open(\"assets/text_image.png\")\n",
    "    image = image.resize((300,150))\n",
    "    custom_config = r'-l eng --oem 3 --psm 6' \n",
    "    text = pytesseract.image_to_string(image,config=custom_config)\n",
    "    print(text)\n",
    "\n",
    "    #To Save The Text in Text file\n",
    "    filename = \"demo.txt\"\n",
    "    #os.makedirs(os.path.dirname(filename), exist_ok=True)\n",
    "    with open(filename, \"w\") as f:\n",
    "        f.write(text)\n"
   ]
  },
  {
   "cell_type": "code",
   "execution_count": 23,
   "id": "eaef75f7",
   "metadata": {},
   "outputs": [
    {
     "name": "stdout",
     "output_type": "stream",
     "text": [
      "(XS ro rexr:\n",
      "\n",
      "HOW TO\n",
      "EXTRACT TEXT,\n",
      "\n",
      "FROM AN IMAGE ~ i\n",
      "\f\n"
     ]
    }
   ],
   "source": [
    "read_text()"
   ]
  }
 ],
 "metadata": {
  "kernelspec": {
   "display_name": "Python 3.9.12 ('base')",
   "language": "python",
   "name": "python3"
  },
  "language_info": {
   "codemirror_mode": {
    "name": "ipython",
    "version": 3
   },
   "file_extension": ".py",
   "mimetype": "text/x-python",
   "name": "python",
   "nbconvert_exporter": "python",
   "pygments_lexer": "ipython3",
   "version": "3.9.12"
  },
  "vscode": {
   "interpreter": {
    "hash": "e2a05c51dcfab5fef98f0d4d3fb82c7f8dc39de3e306b6dcacf018e075aa76a1"
   }
  }
 },
 "nbformat": 4,
 "nbformat_minor": 5
}
